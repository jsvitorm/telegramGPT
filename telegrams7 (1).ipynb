{
  "nbformat": 4,
  "nbformat_minor": 0,
  "metadata": {
    "colab": {
      "provenance": []
    },
    "kernelspec": {
      "name": "python3",
      "display_name": "Python 3"
    },
    "language_info": {
      "name": "python"
    }
  },
  "cells": [
    {
      "cell_type": "code",
      "execution_count": 1,
      "metadata": {
        "colab": {
          "base_uri": "https://localhost:8080/"
        },
        "id": "wrqlgcp1PVQ2",
        "outputId": "30ed3154-8885-425c-8359-615a318258f4"
      },
      "outputs": [
        {
          "output_type": "stream",
          "name": "stdout",
          "text": [
            "Collecting openai\n",
            "  Downloading openai-1.14.2-py3-none-any.whl (262 kB)\n",
            "\u001b[?25l     \u001b[90m━━━━━━━━━━━━━━━━━━━━━━━━━━━━━━━━━━━━━━━━\u001b[0m \u001b[32m0.0/262.4 kB\u001b[0m \u001b[31m?\u001b[0m eta \u001b[36m-:--:--\u001b[0m\r\u001b[2K     \u001b[91m━━━━━━━━━━━━━━━━━━\u001b[0m\u001b[91m╸\u001b[0m\u001b[90m━━━━━━━━━━━━━━━━━━━━━\u001b[0m \u001b[32m122.9/262.4 kB\u001b[0m \u001b[31m3.5 MB/s\u001b[0m eta \u001b[36m0:00:01\u001b[0m\r\u001b[2K     \u001b[90m━━━━━━━━━━━━━━━━━━━━━━━━━━━━━━━━━━━━━━━━\u001b[0m \u001b[32m262.4/262.4 kB\u001b[0m \u001b[31m4.1 MB/s\u001b[0m eta \u001b[36m0:00:00\u001b[0m\n",
            "\u001b[?25hRequirement already satisfied: anyio<5,>=3.5.0 in /usr/local/lib/python3.10/dist-packages (from openai) (3.7.1)\n",
            "Requirement already satisfied: distro<2,>=1.7.0 in /usr/lib/python3/dist-packages (from openai) (1.7.0)\n",
            "Collecting httpx<1,>=0.23.0 (from openai)\n",
            "  Downloading httpx-0.27.0-py3-none-any.whl (75 kB)\n",
            "\u001b[2K     \u001b[90m━━━━━━━━━━━━━━━━━━━━━━━━━━━━━━━━━━━━━━━━\u001b[0m \u001b[32m75.6/75.6 kB\u001b[0m \u001b[31m6.1 MB/s\u001b[0m eta \u001b[36m0:00:00\u001b[0m\n",
            "\u001b[?25hRequirement already satisfied: pydantic<3,>=1.9.0 in /usr/local/lib/python3.10/dist-packages (from openai) (2.6.4)\n",
            "Requirement already satisfied: sniffio in /usr/local/lib/python3.10/dist-packages (from openai) (1.3.1)\n",
            "Requirement already satisfied: tqdm>4 in /usr/local/lib/python3.10/dist-packages (from openai) (4.66.2)\n",
            "Requirement already satisfied: typing-extensions<5,>=4.7 in /usr/local/lib/python3.10/dist-packages (from openai) (4.10.0)\n",
            "Requirement already satisfied: idna>=2.8 in /usr/local/lib/python3.10/dist-packages (from anyio<5,>=3.5.0->openai) (3.6)\n",
            "Requirement already satisfied: exceptiongroup in /usr/local/lib/python3.10/dist-packages (from anyio<5,>=3.5.0->openai) (1.2.0)\n",
            "Requirement already satisfied: certifi in /usr/local/lib/python3.10/dist-packages (from httpx<1,>=0.23.0->openai) (2024.2.2)\n",
            "Collecting httpcore==1.* (from httpx<1,>=0.23.0->openai)\n",
            "  Downloading httpcore-1.0.4-py3-none-any.whl (77 kB)\n",
            "\u001b[2K     \u001b[90m━━━━━━━━━━━━━━━━━━━━━━━━━━━━━━━━━━━━━━━━\u001b[0m \u001b[32m77.8/77.8 kB\u001b[0m \u001b[31m7.5 MB/s\u001b[0m eta \u001b[36m0:00:00\u001b[0m\n",
            "\u001b[?25hCollecting h11<0.15,>=0.13 (from httpcore==1.*->httpx<1,>=0.23.0->openai)\n",
            "  Downloading h11-0.14.0-py3-none-any.whl (58 kB)\n",
            "\u001b[2K     \u001b[90m━━━━━━━━━━━━━━━━━━━━━━━━━━━━━━━━━━━━━━━━\u001b[0m \u001b[32m58.3/58.3 kB\u001b[0m \u001b[31m5.5 MB/s\u001b[0m eta \u001b[36m0:00:00\u001b[0m\n",
            "\u001b[?25hRequirement already satisfied: annotated-types>=0.4.0 in /usr/local/lib/python3.10/dist-packages (from pydantic<3,>=1.9.0->openai) (0.6.0)\n",
            "Requirement already satisfied: pydantic-core==2.16.3 in /usr/local/lib/python3.10/dist-packages (from pydantic<3,>=1.9.0->openai) (2.16.3)\n",
            "Installing collected packages: h11, httpcore, httpx, openai\n",
            "Successfully installed h11-0.14.0 httpcore-1.0.4 httpx-0.27.0 openai-1.14.2\n",
            "Collecting pyTelegramBotAPI\n",
            "  Downloading pytelegrambotapi-4.16.1-py3-none-any.whl (232 kB)\n",
            "\u001b[2K     \u001b[90m━━━━━━━━━━━━━━━━━━━━━━━━━━━━━━━━━━━━━━━━\u001b[0m \u001b[32m232.2/232.2 kB\u001b[0m \u001b[31m3.3 MB/s\u001b[0m eta \u001b[36m0:00:00\u001b[0m\n",
            "\u001b[?25hRequirement already satisfied: requests in /usr/local/lib/python3.10/dist-packages (from pyTelegramBotAPI) (2.31.0)\n",
            "Requirement already satisfied: charset-normalizer<4,>=2 in /usr/local/lib/python3.10/dist-packages (from requests->pyTelegramBotAPI) (3.3.2)\n",
            "Requirement already satisfied: idna<4,>=2.5 in /usr/local/lib/python3.10/dist-packages (from requests->pyTelegramBotAPI) (3.6)\n",
            "Requirement already satisfied: urllib3<3,>=1.21.1 in /usr/local/lib/python3.10/dist-packages (from requests->pyTelegramBotAPI) (2.0.7)\n",
            "Requirement already satisfied: certifi>=2017.4.17 in /usr/local/lib/python3.10/dist-packages (from requests->pyTelegramBotAPI) (2024.2.2)\n",
            "Installing collected packages: pyTelegramBotAPI\n",
            "Successfully installed pyTelegramBotAPI-4.16.1\n"
          ]
        }
      ],
      "source": [
        "!pip install openai\n",
        "!pip install pyTelegramBotAPI"
      ]
    },
    {
      "cell_type": "code",
      "source": [
        "import telebot\n",
        "from openai import OpenAI\n",
        "\n",
        "bot_key = chave_telegram\n",
        "\n",
        "bot = telebot.TeleBot(bot_key)"
      ],
      "metadata": {
        "id": "2Yb4RhzfokxZ"
      },
      "execution_count": 2,
      "outputs": []
    },
    {
      "cell_type": "code",
      "source": [
        "def chama_gpt_maloka(texto_usuario):\n",
        "  gpt_key = chave_gpt\n",
        "  client = OpenAI(api_key=gpt_key)\n",
        "  completion = client.chat.completions.create(\n",
        "  model=\"gpt-3.5-turbo\",\n",
        "  messages=[\n",
        "    {\"role\": \"system\", \"content\": \"Você é um funkeiro malokeiro que fala com muitas girias e que costuma dar opiniões sobre filmes.\"},\n",
        "    {\"role\": \"user\", \"content\": texto_usuario}\n",
        "  ]\n",
        "  )\n",
        "  return completion.choices[0].message.content\n",
        "\n",
        "def chama_gpt_advogado(texto_usuario):\n",
        "  gpt_key = chave_gpt\n",
        "  client = OpenAI(api_key=gpt_key)\n",
        "  completion = client.chat.completions.create(\n",
        "  model=\"gpt-3.5-turbo\",\n",
        "  messages=[\n",
        "    {\"role\": \"system\", \"content\": \"Você é um advogado culto e muito formal e que costuma dar opiniões sobre futebol.\"},\n",
        "    {\"role\": \"user\", \"content\": texto_usuario}\n",
        "  ]\n",
        "  )\n",
        "  return completion.choices[0].message.content\n",
        "\n",
        "def chama_gpt_vovo(texto_usuario):\n",
        "  gpt_key = chave_gpt\n",
        "  client = OpenAI(api_key=gpt_key)\n",
        "  completion = client.chat.completions.create(\n",
        "  model=\"gpt-3.5-turbo\",\n",
        "  messages=[\n",
        "    {\"role\": \"system\", \"content\": \"Você é uma vovó gamer que fala igual uma velhinha e que costuma dar opiniões sobre jogos.\"},\n",
        "    {\"role\": \"user\", \"content\": texto_usuario}\n",
        "  ]\n",
        "  )\n",
        "  return completion.choices[0].message.content\n",
        "\n",
        "def chama_gpt_dog(texto_usuario):\n",
        "  gpt_key = chave_gpt\n",
        "  client = OpenAI(api_key=gpt_key)\n",
        "  completion = client.chat.completions.create(\n",
        "  model=\"gpt-3.5-turbo\",\n",
        "  messages=[\n",
        "    {\"role\": \"system\", \"content\": \"Você é um cachorro que fala sobre politica mas responde apenas com latidos (Os latidos nao precisam ter significados, apenas deve responder com latidos).\"},\n",
        "    {\"role\": \"user\", \"content\": texto_usuario}\n",
        "  ]\n",
        "  )\n",
        "  return completion.choices[0].message.content\n",
        "\n",
        "preferencia_usuario = None"
      ],
      "metadata": {
        "id": "g6TH1R-GvSum"
      },
      "execution_count": 3,
      "outputs": []
    },
    {
      "cell_type": "code",
      "source": [
        "def bastardos(message):\n",
        "  return True"
      ],
      "metadata": {
        "id": "Btrd7heDqAFH"
      },
      "execution_count": 4,
      "outputs": []
    },
    {
      "cell_type": "code",
      "source": [
        "@bot.message_handler(commands=[\"start\"])\n",
        "def botAnswer(message):\n",
        "  intro = \"\"\"\n",
        "Fale com algum de nossos correspondentes!\n",
        "Temos um advogado culto que adora falar sobre futebol\n",
        "Um funkeiro cinéfilo que curte pegar um cineminha\n",
        "Uma adorável vovó que tá sempre ligada no mundo dos games\n",
        "E um cachorro que entende tudo sobre política global e os acontecimentos recentes na politica brasileira\n",
        "\n",
        "Escolha com quem você deseja conversar\n",
        "/advogado\n",
        "/funkeiro\n",
        "/vovo\n",
        "/cachorro\n",
        "  \"\"\"\n",
        "  bot.send_message(message.chat.id,intro)\n",
        "\n",
        "@bot.message_handler(commands=[\"advogado\"])\n",
        "def choose_advogado(message):\n",
        "    global preferencia_usuario\n",
        "    preferencia_usuario = \"adv\"\n",
        "    texto_escolha = \"\"\"\n",
        "    Você escolheu nosso advogado analista de futebol, estarei passando controle para ele...\n",
        "    \"\"\"\n",
        "    intro = \"\"\"\n",
        "    Olá! Sou o Dr. Roberto, o advogado analista de futebol!\n",
        "    Estou aqui para ajudá-lo com todas as suas questões relacionadas ao mundo do futebol.\n",
        "    Por favor, sinta-se à vontade para compartilhar suas dúvidas e interesses sobre o esporte, e farei o meu melhor para fornecer orientações e insights legais.\n",
        "    Vamos juntos explorar o fascinante universo do futebol! ⚽️📜\n",
        "    \"\"\"\n",
        "    bot.send_message(message.chat.id, texto_escolha)\n",
        "    bot.send_message(message.chat.id, intro)\n",
        "\n",
        "\n",
        "\n",
        "@bot.message_handler(commands=[\"funkeiro\"])\n",
        "def choose_funkeiro(message):\n",
        "    global preferencia_usuario\n",
        "    preferencia_usuario = \"funk\"\n",
        "    texto_escolha = \"\"\"\n",
        "    Você escolheu nosso funkeiro cinéfilo, estarei passando controle para ele...\n",
        "    \"\"\"\n",
        "    intro = \"\"\"\n",
        "E aí, parceiro! Sou o MC CineFunk, o funkeiro cinéfilo dessa rapaziada toda!\n",
        "Estou aqui para trocar uma ideia sobre os melhores filmes, aquelas cenas icônicas e tudo mais que rola nas telonas.\n",
        "🎬🎵\n",
        "    \"\"\"\n",
        "    bot.send_message(message.chat.id, texto_escolha)\n",
        "    bot.send_message(message.chat.id, intro)\n",
        "\n",
        "\n",
        "@bot.message_handler(commands=[\"vovo\"])\n",
        "def choose_vovo(message):\n",
        "    global preferencia_usuario\n",
        "    preferencia_usuario = \"vovo\"\n",
        "    texto_escolha = \"\"\"\n",
        "    Você escolheu nossa vovó gamer, estarei passando controle para ela...\n",
        "    \"\"\"\n",
        "    intro = \"\"\"\n",
        "    Oizinho, meus netinhos queridos! Sou a Vovó Gamer e estou aqui prontinha para embarcar nessa aventura virtual com vocês!\n",
        "    Preparem-se para muitas histórias divertidas e algumas vitórias, claro! Estou empolgada para aprender e jogar junto com vocês!\n",
        "    🎮👵\n",
        "    \"\"\"\n",
        "    bot.send_message(message.chat.id, texto_escolha)\n",
        "    bot.send_message(message.chat.id, intro)\n",
        "\n",
        "\n",
        "@bot.message_handler(commands=[\"cachorro\"])\n",
        "def choose_cachorro(message):\n",
        "    global preferencia_usuario\n",
        "    preferencia_usuario = \"dog\"\n",
        "    texto_escolha = \"\"\"\n",
        "    Você escolheu o nosso Labr-adorador da democracia! Vou passar o controle para ele...\n",
        "    \"\"\"\n",
        "    intro = \"\"\"\n",
        "    *Latidos políticos*\n",
        "    Woof woof woof! 🐾🗳️\n",
        "    Woof woof woof woof woof! 🐾🏛️\n",
        "    Woof woof woof woof! 🐾🌟\n",
        "    Woof woof! 🐾🐶\n",
        "    Woof woof woof woof woof woof woof! 🐾🇺🇳\n",
        "    \"\"\"\n",
        "    bot.send_message(message.chat.id, texto_escolha)\n",
        "    bot.send_message(message.chat.id, intro, parse_mode=\"Markdown\")\n"
      ],
      "metadata": {
        "id": "pQQlZuuXIkio"
      },
      "execution_count": 5,
      "outputs": []
    },
    {
      "cell_type": "code",
      "source": [
        "@bot.message_handler(func=bastardos)\n",
        "def handle_message(message):\n",
        "    global preferencia_usuario\n",
        "    user_message = message.text\n",
        "    resposta = None\n",
        "\n",
        "    if preferencia_usuario == \"adv\":\n",
        "        resposta = chama_gpt_advogado(user_message)\n",
        "    elif preferencia_usuario == \"funk\":\n",
        "        resposta = chama_gpt_maloka(user_message)\n",
        "    elif preferencia_usuario == \"vovo\":\n",
        "        resposta = chama_gpt_vovo(user_message)\n",
        "    elif preferencia_usuario == \"dog\":\n",
        "        resposta = chama_gpt_dog(user_message)\n",
        "\n",
        "    if resposta is not None:\n",
        "        bot.reply_to(message, resposta)\n",
        "    else:\n",
        "        bot.reply_to(message, \"Desculpe, não consigo responder a essa mensagem no momento.\")\n",
        "\n",
        "    print(message)\n",
        "\n",
        "\n",
        "bot.polling()"
      ],
      "metadata": {
        "colab": {
          "base_uri": "https://localhost:8080/"
        },
        "id": "PyDld_Jfpc0_",
        "outputId": "ed928afd-3e41-45af-9781-ac73d8c09860"
      },
      "execution_count": 6,
      "outputs": [
        {
          "output_type": "stream",
          "name": "stdout",
          "text": [
            "{'content_type': 'text', 'id': 131, 'message_id': 131, 'from_user': {'id': 6164791592, 'is_bot': False, 'first_name': 'jaywask', 'username': None, 'last_name': None, 'language_code': 'pt-br', 'can_join_groups': None, 'can_read_all_group_messages': None, 'supports_inline_queries': None, 'is_premium': None, 'added_to_attachment_menu': None}, 'date': 1711298884, 'chat': {'id': 6164791592, 'type': 'private', 'title': None, 'username': None, 'first_name': 'jaywask', 'last_name': None, 'is_forum': None, 'photo': None, 'bio': None, 'join_to_send_messages': None, 'join_by_request': None, 'has_private_forwards': None, 'has_restricted_voice_and_video_messages': None, 'description': None, 'invite_link': None, 'pinned_message': None, 'permissions': None, 'slow_mode_delay': None, 'message_auto_delete_time': None, 'has_protected_content': None, 'sticker_set_name': None, 'can_set_sticker_set': None, 'linked_chat_id': None, 'location': None, 'active_usernames': None, 'emoji_status_custom_emoji_id': None, 'has_hidden_members': None, 'has_aggressive_anti_spam_enabled': None, 'emoji_status_expiration_date': None, 'available_reactions': None, 'accent_color_id': None, 'background_custom_emoji_id': None, 'profile_accent_color_id': None, 'profile_background_custom_emoji_id': None, 'has_visible_history': None, 'unrestrict_boost_count': None, 'custom_emoji_sticker_set_name': None}, 'sender_chat': None, 'is_automatic_forward': None, 'reply_to_message': None, 'via_bot': None, 'edit_date': None, 'has_protected_content': None, 'media_group_id': None, 'author_signature': None, 'text': 'o que você acha do corinthians?', 'entities': None, 'caption_entities': None, 'audio': None, 'document': None, 'photo': None, 'sticker': None, 'video': None, 'video_note': None, 'voice': None, 'caption': None, 'contact': None, 'location': None, 'venue': None, 'animation': None, 'dice': None, 'new_chat_members': None, 'left_chat_member': None, 'new_chat_title': None, 'new_chat_photo': None, 'delete_chat_photo': None, 'group_chat_created': None, 'supergroup_chat_created': None, 'channel_chat_created': None, 'migrate_to_chat_id': None, 'migrate_from_chat_id': None, 'pinned_message': None, 'invoice': None, 'successful_payment': None, 'connected_website': None, 'reply_markup': None, 'message_thread_id': None, 'is_topic_message': None, 'forum_topic_created': None, 'forum_topic_closed': None, 'forum_topic_reopened': None, 'has_media_spoiler': None, 'forum_topic_edited': None, 'general_forum_topic_hidden': None, 'general_forum_topic_unhidden': None, 'write_access_allowed': None, 'users_shared': None, 'chat_shared': None, 'story': None, 'external_reply': None, 'quote': None, 'link_preview_options': None, 'giveaway_created': None, 'giveaway': None, 'giveaway_winners': None, 'giveaway_completed': None, 'forward_origin': None, 'boost_added': None, 'sender_boost_count': None, 'reply_to_story': None, 'json': {'message_id': 131, 'from': {'id': 6164791592, 'is_bot': False, 'first_name': 'jaywask', 'language_code': 'pt-br'}, 'chat': {'id': 6164791592, 'first_name': 'jaywask', 'type': 'private'}, 'date': 1711298884, 'text': 'o que você acha do corinthians?'}}\n",
            "{'content_type': 'text', 'id': 133, 'message_id': 133, 'from_user': {'id': 6164791592, 'is_bot': False, 'first_name': 'jaywask', 'username': None, 'last_name': None, 'language_code': 'pt-br', 'can_join_groups': None, 'can_read_all_group_messages': None, 'supports_inline_queries': None, 'is_premium': None, 'added_to_attachment_menu': None}, 'date': 1711298897, 'chat': {'id': 6164791592, 'type': 'private', 'title': None, 'username': None, 'first_name': 'jaywask', 'last_name': None, 'is_forum': None, 'photo': None, 'bio': None, 'join_to_send_messages': None, 'join_by_request': None, 'has_private_forwards': None, 'has_restricted_voice_and_video_messages': None, 'description': None, 'invite_link': None, 'pinned_message': None, 'permissions': None, 'slow_mode_delay': None, 'message_auto_delete_time': None, 'has_protected_content': None, 'sticker_set_name': None, 'can_set_sticker_set': None, 'linked_chat_id': None, 'location': None, 'active_usernames': None, 'emoji_status_custom_emoji_id': None, 'has_hidden_members': None, 'has_aggressive_anti_spam_enabled': None, 'emoji_status_expiration_date': None, 'available_reactions': None, 'accent_color_id': None, 'background_custom_emoji_id': None, 'profile_accent_color_id': None, 'profile_background_custom_emoji_id': None, 'has_visible_history': None, 'unrestrict_boost_count': None, 'custom_emoji_sticker_set_name': None}, 'sender_chat': None, 'is_automatic_forward': None, 'reply_to_message': None, 'via_bot': None, 'edit_date': None, 'has_protected_content': None, 'media_group_id': None, 'author_signature': None, 'text': 'e o ronaldo fenomeno?', 'entities': None, 'caption_entities': None, 'audio': None, 'document': None, 'photo': None, 'sticker': None, 'video': None, 'video_note': None, 'voice': None, 'caption': None, 'contact': None, 'location': None, 'venue': None, 'animation': None, 'dice': None, 'new_chat_members': None, 'left_chat_member': None, 'new_chat_title': None, 'new_chat_photo': None, 'delete_chat_photo': None, 'group_chat_created': None, 'supergroup_chat_created': None, 'channel_chat_created': None, 'migrate_to_chat_id': None, 'migrate_from_chat_id': None, 'pinned_message': None, 'invoice': None, 'successful_payment': None, 'connected_website': None, 'reply_markup': None, 'message_thread_id': None, 'is_topic_message': None, 'forum_topic_created': None, 'forum_topic_closed': None, 'forum_topic_reopened': None, 'has_media_spoiler': None, 'forum_topic_edited': None, 'general_forum_topic_hidden': None, 'general_forum_topic_unhidden': None, 'write_access_allowed': None, 'users_shared': None, 'chat_shared': None, 'story': None, 'external_reply': None, 'quote': None, 'link_preview_options': None, 'giveaway_created': None, 'giveaway': None, 'giveaway_winners': None, 'giveaway_completed': None, 'forward_origin': None, 'boost_added': None, 'sender_boost_count': None, 'reply_to_story': None, 'json': {'message_id': 133, 'from': {'id': 6164791592, 'is_bot': False, 'first_name': 'jaywask', 'language_code': 'pt-br'}, 'chat': {'id': 6164791592, 'first_name': 'jaywask', 'type': 'private'}, 'date': 1711298897, 'text': 'e o ronaldo fenomeno?'}}\n",
            "{'content_type': 'text', 'id': 138, 'message_id': 138, 'from_user': {'id': 6164791592, 'is_bot': False, 'first_name': 'jaywask', 'username': None, 'last_name': None, 'language_code': 'pt-br', 'can_join_groups': None, 'can_read_all_group_messages': None, 'supports_inline_queries': None, 'is_premium': None, 'added_to_attachment_menu': None}, 'date': 1711298913, 'chat': {'id': 6164791592, 'type': 'private', 'title': None, 'username': None, 'first_name': 'jaywask', 'last_name': None, 'is_forum': None, 'photo': None, 'bio': None, 'join_to_send_messages': None, 'join_by_request': None, 'has_private_forwards': None, 'has_restricted_voice_and_video_messages': None, 'description': None, 'invite_link': None, 'pinned_message': None, 'permissions': None, 'slow_mode_delay': None, 'message_auto_delete_time': None, 'has_protected_content': None, 'sticker_set_name': None, 'can_set_sticker_set': None, 'linked_chat_id': None, 'location': None, 'active_usernames': None, 'emoji_status_custom_emoji_id': None, 'has_hidden_members': None, 'has_aggressive_anti_spam_enabled': None, 'emoji_status_expiration_date': None, 'available_reactions': None, 'accent_color_id': None, 'background_custom_emoji_id': None, 'profile_accent_color_id': None, 'profile_background_custom_emoji_id': None, 'has_visible_history': None, 'unrestrict_boost_count': None, 'custom_emoji_sticker_set_name': None}, 'sender_chat': None, 'is_automatic_forward': None, 'reply_to_message': None, 'via_bot': None, 'edit_date': None, 'has_protected_content': None, 'media_group_id': None, 'author_signature': None, 'text': 'o que você de clube da luta?', 'entities': None, 'caption_entities': None, 'audio': None, 'document': None, 'photo': None, 'sticker': None, 'video': None, 'video_note': None, 'voice': None, 'caption': None, 'contact': None, 'location': None, 'venue': None, 'animation': None, 'dice': None, 'new_chat_members': None, 'left_chat_member': None, 'new_chat_title': None, 'new_chat_photo': None, 'delete_chat_photo': None, 'group_chat_created': None, 'supergroup_chat_created': None, 'channel_chat_created': None, 'migrate_to_chat_id': None, 'migrate_from_chat_id': None, 'pinned_message': None, 'invoice': None, 'successful_payment': None, 'connected_website': None, 'reply_markup': None, 'message_thread_id': None, 'is_topic_message': None, 'forum_topic_created': None, 'forum_topic_closed': None, 'forum_topic_reopened': None, 'has_media_spoiler': None, 'forum_topic_edited': None, 'general_forum_topic_hidden': None, 'general_forum_topic_unhidden': None, 'write_access_allowed': None, 'users_shared': None, 'chat_shared': None, 'story': None, 'external_reply': None, 'quote': None, 'link_preview_options': None, 'giveaway_created': None, 'giveaway': None, 'giveaway_winners': None, 'giveaway_completed': None, 'forward_origin': None, 'boost_added': None, 'sender_boost_count': None, 'reply_to_story': None, 'json': {'message_id': 138, 'from': {'id': 6164791592, 'is_bot': False, 'first_name': 'jaywask', 'language_code': 'pt-br'}, 'chat': {'id': 6164791592, 'first_name': 'jaywask', 'type': 'private'}, 'date': 1711298913, 'text': 'o que você de clube da luta?'}}\n",
            "{'content_type': 'text', 'id': 143, 'message_id': 143, 'from_user': {'id': 6164791592, 'is_bot': False, 'first_name': 'jaywask', 'username': None, 'last_name': None, 'language_code': 'pt-br', 'can_join_groups': None, 'can_read_all_group_messages': None, 'supports_inline_queries': None, 'is_premium': None, 'added_to_attachment_menu': None}, 'date': 1711298934, 'chat': {'id': 6164791592, 'type': 'private', 'title': None, 'username': None, 'first_name': 'jaywask', 'last_name': None, 'is_forum': None, 'photo': None, 'bio': None, 'join_to_send_messages': None, 'join_by_request': None, 'has_private_forwards': None, 'has_restricted_voice_and_video_messages': None, 'description': None, 'invite_link': None, 'pinned_message': None, 'permissions': None, 'slow_mode_delay': None, 'message_auto_delete_time': None, 'has_protected_content': None, 'sticker_set_name': None, 'can_set_sticker_set': None, 'linked_chat_id': None, 'location': None, 'active_usernames': None, 'emoji_status_custom_emoji_id': None, 'has_hidden_members': None, 'has_aggressive_anti_spam_enabled': None, 'emoji_status_expiration_date': None, 'available_reactions': None, 'accent_color_id': None, 'background_custom_emoji_id': None, 'profile_accent_color_id': None, 'profile_background_custom_emoji_id': None, 'has_visible_history': None, 'unrestrict_boost_count': None, 'custom_emoji_sticker_set_name': None}, 'sender_chat': None, 'is_automatic_forward': None, 'reply_to_message': None, 'via_bot': None, 'edit_date': None, 'has_protected_content': None, 'media_group_id': None, 'author_signature': None, 'text': 'vovó o que você achou de gta 5?', 'entities': None, 'caption_entities': None, 'audio': None, 'document': None, 'photo': None, 'sticker': None, 'video': None, 'video_note': None, 'voice': None, 'caption': None, 'contact': None, 'location': None, 'venue': None, 'animation': None, 'dice': None, 'new_chat_members': None, 'left_chat_member': None, 'new_chat_title': None, 'new_chat_photo': None, 'delete_chat_photo': None, 'group_chat_created': None, 'supergroup_chat_created': None, 'channel_chat_created': None, 'migrate_to_chat_id': None, 'migrate_from_chat_id': None, 'pinned_message': None, 'invoice': None, 'successful_payment': None, 'connected_website': None, 'reply_markup': None, 'message_thread_id': None, 'is_topic_message': None, 'forum_topic_created': None, 'forum_topic_closed': None, 'forum_topic_reopened': None, 'has_media_spoiler': None, 'forum_topic_edited': None, 'general_forum_topic_hidden': None, 'general_forum_topic_unhidden': None, 'write_access_allowed': None, 'users_shared': None, 'chat_shared': None, 'story': None, 'external_reply': None, 'quote': None, 'link_preview_options': None, 'giveaway_created': None, 'giveaway': None, 'giveaway_winners': None, 'giveaway_completed': None, 'forward_origin': None, 'boost_added': None, 'sender_boost_count': None, 'reply_to_story': None, 'json': {'message_id': 143, 'from': {'id': 6164791592, 'is_bot': False, 'first_name': 'jaywask', 'language_code': 'pt-br'}, 'chat': {'id': 6164791592, 'first_name': 'jaywask', 'type': 'private'}, 'date': 1711298934, 'text': 'vovó o que você achou de gta 5?'}}\n",
            "{'content_type': 'text', 'id': 148, 'message_id': 148, 'from_user': {'id': 6164791592, 'is_bot': False, 'first_name': 'jaywask', 'username': None, 'last_name': None, 'language_code': 'pt-br', 'can_join_groups': None, 'can_read_all_group_messages': None, 'supports_inline_queries': None, 'is_premium': None, 'added_to_attachment_menu': None}, 'date': 1711298957, 'chat': {'id': 6164791592, 'type': 'private', 'title': None, 'username': None, 'first_name': 'jaywask', 'last_name': None, 'is_forum': None, 'photo': None, 'bio': None, 'join_to_send_messages': None, 'join_by_request': None, 'has_private_forwards': None, 'has_restricted_voice_and_video_messages': None, 'description': None, 'invite_link': None, 'pinned_message': None, 'permissions': None, 'slow_mode_delay': None, 'message_auto_delete_time': None, 'has_protected_content': None, 'sticker_set_name': None, 'can_set_sticker_set': None, 'linked_chat_id': None, 'location': None, 'active_usernames': None, 'emoji_status_custom_emoji_id': None, 'has_hidden_members': None, 'has_aggressive_anti_spam_enabled': None, 'emoji_status_expiration_date': None, 'available_reactions': None, 'accent_color_id': None, 'background_custom_emoji_id': None, 'profile_accent_color_id': None, 'profile_background_custom_emoji_id': None, 'has_visible_history': None, 'unrestrict_boost_count': None, 'custom_emoji_sticker_set_name': None}, 'sender_chat': None, 'is_automatic_forward': None, 'reply_to_message': None, 'via_bot': None, 'edit_date': None, 'has_protected_content': None, 'media_group_id': None, 'author_signature': None, 'text': 'o que você acha da guerra no oriente medio?', 'entities': None, 'caption_entities': None, 'audio': None, 'document': None, 'photo': None, 'sticker': None, 'video': None, 'video_note': None, 'voice': None, 'caption': None, 'contact': None, 'location': None, 'venue': None, 'animation': None, 'dice': None, 'new_chat_members': None, 'left_chat_member': None, 'new_chat_title': None, 'new_chat_photo': None, 'delete_chat_photo': None, 'group_chat_created': None, 'supergroup_chat_created': None, 'channel_chat_created': None, 'migrate_to_chat_id': None, 'migrate_from_chat_id': None, 'pinned_message': None, 'invoice': None, 'successful_payment': None, 'connected_website': None, 'reply_markup': None, 'message_thread_id': None, 'is_topic_message': None, 'forum_topic_created': None, 'forum_topic_closed': None, 'forum_topic_reopened': None, 'has_media_spoiler': None, 'forum_topic_edited': None, 'general_forum_topic_hidden': None, 'general_forum_topic_unhidden': None, 'write_access_allowed': None, 'users_shared': None, 'chat_shared': None, 'story': None, 'external_reply': None, 'quote': None, 'link_preview_options': None, 'giveaway_created': None, 'giveaway': None, 'giveaway_winners': None, 'giveaway_completed': None, 'forward_origin': None, 'boost_added': None, 'sender_boost_count': None, 'reply_to_story': None, 'json': {'message_id': 148, 'from': {'id': 6164791592, 'is_bot': False, 'first_name': 'jaywask', 'language_code': 'pt-br'}, 'chat': {'id': 6164791592, 'first_name': 'jaywask', 'type': 'private'}, 'date': 1711298957, 'text': 'o que você acha da guerra no oriente medio?'}}\n"
          ]
        }
      ]
    }
  ]
}